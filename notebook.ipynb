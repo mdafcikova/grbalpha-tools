{
 "cells": [
  {
   "cell_type": "code",
   "execution_count": 1,
   "metadata": {},
   "outputs": [],
   "source": [
    "from src.tools import Observation\n",
    "import os\n",
    "import pandas as pd\n",
    "import numpy as np"
   ]
  },
  {
   "cell_type": "code",
   "execution_count": null,
   "metadata": {},
   "outputs": [],
   "source": [
    "for file in os.listdir(r\"C:\\Users\\maria\\Desktop\\CubeSats\\GRBs\\files\"):\n",
    "    if file == 'test.json':\n",
    "        continue\n",
    "    else:\n",
    "        obs = Observation(r\"C:\\\\Users\\\\maria\\\\Desktop\\\\CubeSats\\\\GRBs\\\\files\\\\\"+file)\n",
    "        # grb = obs.is_GRB_in_file()\n",
    "        # print(f\"{file}:\\n GRBs: {grb}\")\n",
    "        sgr = obs.is_SGR_in_file()\n",
    "        sf = obs.is_SF_in_file()\n",
    "        print(f\"{file}:\\n SGR:\\n {sgr} \\n SF:\\n {sf}\")"
   ]
  },
  {
   "cell_type": "code",
   "execution_count": 3,
   "metadata": {},
   "outputs": [],
   "source": [
    "obs = Observation(r\"C:\\Users\\maria\\Desktop\\CubeSats\\GRBs\\files\\r22l06b.json\")\n"
   ]
  },
  {
   "cell_type": "code",
   "execution_count": 4,
   "metadata": {},
   "outputs": [
    {
     "name": "stdout",
     "output_type": "stream",
     "text": [
      "statistics in 70.0-370.0 keV for a GRB at 2022-12-06 12:22:47.36:\n",
      "peak time [utc]: 2022-12-06 12:22:48.895715\n",
      "SNR at peak: 19.824308317596255\n",
      "count rate [cnt/s] above background at peak: 495.2110630520853\n",
      "T90 [s]: 8\n",
      "SNR in T90: 38.111763648442896\n",
      "counts above background in T90: 2213.4372636864073\n",
      "\n",
      "statistics in 70.0-890.0 keV for a GRB at 2022-12-06 12:22:47.36:\n",
      "peak time [utc]: 2022-12-06 12:22:48.895715\n",
      "SNR at peak: 18.629423682346577\n",
      "count rate [cnt/s] above background at peak: 494.99609218243444\n",
      "T90 [s]: 8\n",
      "SNR in T90: 34.59093919251049\n",
      "counts above background in T90: 2220.2964364665877\n",
      "\n"
     ]
    }
   ],
   "source": [
    "obs.get_event_stat('2022-12-06 12:22:47.36','GRB',llim=10,rlim=12)"
   ]
  },
  {
   "cell_type": "code",
   "execution_count": 5,
   "metadata": {},
   "outputs": [
    {
     "data": {
      "text/plain": [
       "Timedelta('0 days 00:02:00')"
      ]
     },
     "execution_count": 5,
     "metadata": {},
     "output_type": "execute_result"
    }
   ],
   "source": [
    "pd.Timedelta(2,'min')"
   ]
  },
  {
   "cell_type": "code",
   "execution_count": 19,
   "metadata": {},
   "outputs": [
    {
     "data": {
      "text/plain": [
       "array([  43,   50,   42,   62,   55, 1278, 1295, 1299, 1237, 1286],\n",
       "      dtype=int64)"
      ]
     },
     "execution_count": 19,
     "metadata": {},
     "output_type": "execute_result"
    }
   ],
   "source": [
    "np.concatenate((df[0][:5],df[0][-5:]))"
   ]
  },
  {
   "cell_type": "code",
   "execution_count": 17,
   "metadata": {},
   "outputs": [
    {
     "data": {
      "text/plain": [
       "array([43, 50, 42, 62, 55], dtype=int64)"
      ]
     },
     "execution_count": 17,
     "metadata": {},
     "output_type": "execute_result"
    }
   ],
   "source": [
    "df[0][:5].values"
   ]
  },
  {
   "cell_type": "code",
   "execution_count": null,
   "metadata": {},
   "outputs": [],
   "source": []
  }
 ],
 "metadata": {
  "kernelspec": {
   "display_name": "Python 3.11.0 64-bit",
   "language": "python",
   "name": "python3"
  },
  "language_info": {
   "codemirror_mode": {
    "name": "ipython",
    "version": 3
   },
   "file_extension": ".py",
   "mimetype": "text/x-python",
   "name": "python",
   "nbconvert_exporter": "python",
   "pygments_lexer": "ipython3",
   "version": "3.11.0"
  },
  "orig_nbformat": 4,
  "vscode": {
   "interpreter": {
    "hash": "0b9832f27c5ea70394679bd537127f43581f6b20574434b483f64b86bb1b3379"
   }
  }
 },
 "nbformat": 4,
 "nbformat_minor": 2
}
