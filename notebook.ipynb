{
 "cells": [
  {
   "cell_type": "code",
   "execution_count": 1,
   "metadata": {},
   "outputs": [],
   "source": [
    "from src.tools import Observation"
   ]
  },
  {
   "cell_type": "code",
   "execution_count": 2,
   "metadata": {},
   "outputs": [],
   "source": [
    "fp = r\"C:\\Users\\maria\\Desktop\\CubeSats\\GRBs\\files\\r22l10a_52224.json\""
   ]
  },
  {
   "cell_type": "code",
   "execution_count": 3,
   "metadata": {},
   "outputs": [],
   "source": [
    "obs = Observation(fp)"
   ]
  },
  {
   "cell_type": "code",
   "execution_count": 5,
   "metadata": {},
   "outputs": [
    {
     "data": {
      "text/plain": [
       "Chunk(exp_time=1.0, bin_mode=6.0, cutoff=54.0, time_utc=Timestamp('2022-12-10 02:32:59.895823'), lon=309.704, lat=41.8713, alt=552.699, data=[57, 59, 50, 1])"
      ]
     },
     "execution_count": 5,
     "metadata": {},
     "output_type": "execute_result"
    }
   ],
   "source": [
    "obs.get_chunk('2022-12-10 02:33:00')"
   ]
  },
  {
   "cell_type": "code",
   "execution_count": 6,
   "metadata": {},
   "outputs": [
    {
     "data": {
      "text/plain": [
       "Chunk(exp_time=1.0, bin_mode=6.0, cutoff=54.0, time_utc=Timestamp('2022-12-10 02:33:00.895823'), lon=309.685, lat=41.8095, alt=552.675, data=[75, 65, 56, 0])"
      ]
     },
     "execution_count": 6,
     "metadata": {},
     "output_type": "execute_result"
    }
   ],
   "source": [
    "obs.get_chunk('2022-12-10T02:33:01')"
   ]
  },
  {
   "cell_type": "code",
   "execution_count": null,
   "metadata": {},
   "outputs": [],
   "source": []
  }
 ],
 "metadata": {
  "kernelspec": {
   "display_name": "Python 3.11.0 64-bit",
   "language": "python",
   "name": "python3"
  },
  "language_info": {
   "codemirror_mode": {
    "name": "ipython",
    "version": 3
   },
   "file_extension": ".py",
   "mimetype": "text/x-python",
   "name": "python",
   "nbconvert_exporter": "python",
   "pygments_lexer": "ipython3",
   "version": "3.11.0"
  },
  "orig_nbformat": 4,
  "vscode": {
   "interpreter": {
    "hash": "0b9832f27c5ea70394679bd537127f43581f6b20574434b483f64b86bb1b3379"
   }
  }
 },
 "nbformat": 4,
 "nbformat_minor": 2
}
